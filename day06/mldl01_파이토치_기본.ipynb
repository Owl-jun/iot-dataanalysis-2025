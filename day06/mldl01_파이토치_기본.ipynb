{
 "cells": [
  {
   "cell_type": "markdown",
   "id": "fa683372",
   "metadata": {},
   "source": [
    "## 파이토치 기본\n",
    "\n",
    "### 파이토치 공식 튜토리얼\n",
    "- https://tutorials.pytorch.kr/\n",
    "\n",
    "### 파이토치 패키지(API)\n",
    "- `torch` : 메인 네임스페이스. 텐서(기본단위) 등 수학함수 포함. Numpy와 유사한 구조\n",
    "- `torch.autograd` : 자동미분을 위한 함수들 포함. 컨텍스트 매니저, 기반클래스 포함\n",
    "- `torch.nn` / `torch.nn.functional` : neuralnetwork. 신경망 구축위한 데이터 구조, 레이어등이 정의되어 있는 모듈. ReLU 등도 포함\n",
    "- `torch.optim` : SGD(확률적 경사 하강법) 중심 모델 파라미터 최적화 알고리즘 포함\n",
    "- `torch.utils` : SGD 반복 연산 시 배치용 유틸리티 함수 포함\n",
    "- torch.multiprocessing : 파이토치용 별렬 프로세싱 환경을안전하게 다루기 위한 모듈"
   ]
  },
  {
   "cell_type": "markdown",
   "id": "b9792156",
   "metadata": {},
   "source": [
    "### 텐서\n",
    "- 파이토치 기본단위\n",
    "    - 1차원 배열 - 벡터\n",
    "    - 2차원 배열 - 행렬(매트릭스)\n",
    "    - 3차원 배열 - 텐서\n",
    "\n",
    "- <img src=\"../image/ml0018.png\" width=\"700\">\n",
    "\n",
    "\n",
    "- <img src=\"../image/ml0019.png\" width=\"700\">"
   ]
  },
  {
   "cell_type": "code",
   "execution_count": 306,
   "id": "63fc47c0",
   "metadata": {},
   "outputs": [],
   "source": [
    "import torch\n",
    "import numpy as np"
   ]
  },
  {
   "cell_type": "code",
   "execution_count": 307,
   "id": "bf518ac5",
   "metadata": {},
   "outputs": [
    {
     "data": {
      "text/plain": [
       "tensor([1., 2., 3.])"
      ]
     },
     "execution_count": 307,
     "metadata": {},
     "output_type": "execute_result"
    }
   ],
   "source": [
    "t1 = torch.tensor([1.0, 2.0, 3.0])\n",
    "t1"
   ]
  },
  {
   "cell_type": "code",
   "execution_count": 308,
   "id": "ce3a6b6e",
   "metadata": {},
   "outputs": [
    {
     "name": "stdout",
     "output_type": "stream",
     "text": [
      "torch.Size([3]) torch.float32 torch.FloatTensor cpu\n"
     ]
    }
   ],
   "source": [
    "# 텐서의 크기, 텐서자료형, 자료형+전체타입, 어느디바이스에서 사용중\n",
    "print(t1.shape, t1.dtype, t1.type(), t1.device)"
   ]
  },
  {
   "cell_type": "code",
   "execution_count": 309,
   "id": "71c7cf06",
   "metadata": {},
   "outputs": [
    {
     "data": {
      "text/plain": [
       "array([1., 2., 3.])"
      ]
     },
     "execution_count": 309,
     "metadata": {},
     "output_type": "execute_result"
    }
   ],
   "source": [
    "n1 = np.array([1.0, 2.0, 3.0])\n",
    "n1"
   ]
  },
  {
   "cell_type": "code",
   "execution_count": 310,
   "id": "56dde6e7",
   "metadata": {},
   "outputs": [
    {
     "name": "stdout",
     "output_type": "stream",
     "text": [
      "(3,) float64\n"
     ]
    }
   ],
   "source": [
    "print(n1.shape, n1.dtype)"
   ]
  },
  {
   "cell_type": "code",
   "execution_count": 311,
   "id": "2eb096dc",
   "metadata": {},
   "outputs": [
    {
     "data": {
      "text/plain": [
       "array([[1., 1., 1.],\n",
       "       [1., 1., 1.]])"
      ]
     },
     "execution_count": 311,
     "metadata": {},
     "output_type": "execute_result"
    }
   ],
   "source": [
    "# numpy에서 1, 0으로 초기화 되는\n",
    "n2 = np.ones([2, 3])\n",
    "n2"
   ]
  },
  {
   "cell_type": "code",
   "execution_count": 312,
   "id": "31330052",
   "metadata": {},
   "outputs": [
    {
     "data": {
      "text/plain": [
       "array([[0., 0., 0.],\n",
       "       [0., 0., 0.]])"
      ]
     },
     "execution_count": 312,
     "metadata": {},
     "output_type": "execute_result"
    }
   ],
   "source": [
    "n3 = np.zeros([2, 3])\n",
    "n3"
   ]
  },
  {
   "cell_type": "code",
   "execution_count": 313,
   "id": "c29977ee",
   "metadata": {},
   "outputs": [
    {
     "data": {
      "text/plain": [
       "tensor([[1., 1., 1.],\n",
       "        [1., 1., 1.]])"
      ]
     },
     "execution_count": 313,
     "metadata": {},
     "output_type": "execute_result"
    }
   ],
   "source": [
    "t2 = torch.ones([2, 3])\n",
    "t2"
   ]
  },
  {
   "cell_type": "code",
   "execution_count": 314,
   "id": "f4ae1a8a",
   "metadata": {},
   "outputs": [
    {
     "name": "stdout",
     "output_type": "stream",
     "text": [
      "torch.Size([2, 3]) torch.float32 torch.FloatTensor cpu\n"
     ]
    }
   ],
   "source": [
    "print(t2.shape, t2.dtype, t2.type(), t2.device)"
   ]
  },
  {
   "cell_type": "code",
   "execution_count": 315,
   "id": "7cdf16e4",
   "metadata": {},
   "outputs": [
    {
     "data": {
      "text/plain": [
       "tensor([[0., 0., 0.],\n",
       "        [0., 0., 0.]])"
      ]
     },
     "execution_count": 315,
     "metadata": {},
     "output_type": "execute_result"
    }
   ],
   "source": [
    "t3 = torch.zeros([2, 3])\n",
    "t3"
   ]
  },
  {
   "cell_type": "code",
   "execution_count": 316,
   "id": "37c3dcf2",
   "metadata": {},
   "outputs": [
    {
     "data": {
      "text/plain": [
       "tensor([[0., 0., 0.],\n",
       "        [0., 0., 0.]], dtype=torch.float64)"
      ]
     },
     "execution_count": 316,
     "metadata": {},
     "output_type": "execute_result"
    }
   ],
   "source": [
    "# numpy로 만든 배열을 텐서로 변환\n",
    "t4 = torch.from_numpy(n3)\n",
    "t4"
   ]
  },
  {
   "cell_type": "markdown",
   "id": "0a784d18",
   "metadata": {},
   "source": [
    "- 넘파이와 파이토치 테서간의 현변환 아주 쉽다."
   ]
  },
  {
   "cell_type": "code",
   "execution_count": 317,
   "id": "f467f7ec",
   "metadata": {},
   "outputs": [
    {
     "data": {
      "text/plain": [
       "tensor([[[1., 1., 1.],\n",
       "         [1., 1., 1.],\n",
       "         [1., 1., 1.]],\n",
       "\n",
       "        [[1., 1., 1.],\n",
       "         [1., 1., 1.],\n",
       "         [1., 1., 1.]],\n",
       "\n",
       "        [[1., 1., 1.],\n",
       "         [1., 1., 1.],\n",
       "         [1., 1., 1.]]])"
      ]
     },
     "execution_count": 317,
     "metadata": {},
     "output_type": "execute_result"
    }
   ],
   "source": [
    "t5 = torch.ones(3, 3, 3)\n",
    "t5"
   ]
  },
  {
   "cell_type": "code",
   "execution_count": 318,
   "id": "93f93a72",
   "metadata": {},
   "outputs": [
    {
     "name": "stdout",
     "output_type": "stream",
     "text": [
      "torch.Size([3, 3, 3]) torch.float32 torch.FloatTensor cpu\n",
      "torch.Size([3, 3, 3])\n"
     ]
    }
   ],
   "source": [
    "print(t5.shape, t5.dtype, t5.type(), t5.device)\n",
    "print(t5.size())"
   ]
  },
  {
   "cell_type": "code",
   "execution_count": 319,
   "id": "b0a3fdf4",
   "metadata": {},
   "outputs": [
    {
     "data": {
      "text/plain": [
       "tensor([[0.8741, 0.7323, 0.4173],\n",
       "        [0.2199, 0.7593, 0.3971]])"
      ]
     },
     "execution_count": 319,
     "metadata": {},
     "output_type": "execute_result"
    }
   ],
   "source": [
    "# 랜덤값, randn()은 정규화값\n",
    "t6 = torch.rand(2, 3)\n",
    "t6"
   ]
  },
  {
   "cell_type": "code",
   "execution_count": 320,
   "id": "eac556d2",
   "metadata": {},
   "outputs": [
    {
     "data": {
      "text/plain": [
       "device(type='cuda')"
      ]
     },
     "execution_count": 320,
     "metadata": {},
     "output_type": "execute_result"
    }
   ],
   "source": [
    "# cpu에 있는 텐서를 cuda로 이동\n",
    "device = torch.device('cuda' if torch.cuda.is_available() else 'cpu')\n",
    "device"
   ]
  },
  {
   "cell_type": "code",
   "execution_count": 321,
   "id": "a429946a",
   "metadata": {},
   "outputs": [],
   "source": [
    "# t5(cpu)에 있는 텐서를 cuda로 변수명을 다르게 하면 복사, 변수명을 똑같이 하면 이동\n",
    "t5 = t5.to(device=device)"
   ]
  },
  {
   "cell_type": "code",
   "execution_count": 322,
   "id": "837f1d7f",
   "metadata": {},
   "outputs": [
    {
     "name": "stdout",
     "output_type": "stream",
     "text": [
      "torch.Size([3, 3, 3]) torch.float32 torch.cuda.FloatTensor cuda:0\n"
     ]
    }
   ],
   "source": [
    "print(t5.shape, t5.dtype, t5.type(), t5.device)"
   ]
  },
  {
   "cell_type": "markdown",
   "id": "87e8d04c",
   "metadata": {},
   "source": [
    "- cuda(GPU사용하는 것):0(그래픽카드가 다수일수 있음)\n",
    "- 파이토치의 테서사용 == 넘파이 배열사용"
   ]
  },
  {
   "cell_type": "markdown",
   "id": "1caec334",
   "metadata": {},
   "source": [
    "#### GPU 사용법"
   ]
  },
  {
   "cell_type": "code",
   "execution_count": 323,
   "id": "bf427528",
   "metadata": {},
   "outputs": [
    {
     "data": {
      "text/plain": [
       "tensor([2.3303], grad_fn=<ViewBackward0>)"
      ]
     },
     "execution_count": 323,
     "metadata": {},
     "output_type": "execute_result"
    }
   ],
   "source": [
    "# CPU사용\n",
    "import torch.nn\n",
    "\n",
    "# 신경망 모델 생성 - 3개의 입력을 넣어서 하나의 출력을 내는 신경망\n",
    "model = torch.nn.Linear(3, 1)\n",
    "\n",
    "sample_input = torch.tensor([1.0, 2.0, 3.0])\n",
    "output = model(sample_input)\n",
    "\n",
    "output"
   ]
  },
  {
   "cell_type": "code",
   "execution_count": 324,
   "id": "8edd4ada",
   "metadata": {},
   "outputs": [
    {
     "data": {
      "text/plain": [
       "tensor([-1.0810], device='cuda:0', grad_fn=<ViewBackward0>)"
      ]
     },
     "execution_count": 324,
     "metadata": {},
     "output_type": "execute_result"
    }
   ],
   "source": [
    "# CUDA사용\n",
    "import torch.nn\n",
    "\n",
    "# 신경망 모델 생성 - 3개의 입력을 넣어서 하나의 출력을 내는 신경망\n",
    "model = torch.nn.Linear(3, 1)\n",
    "model.to(device)\n",
    "\n",
    "sample_input = torch.tensor([1.0, 2.0, 3.0]).to(device)\n",
    "output = model(sample_input)\n",
    "\n",
    "output\n"
   ]
  },
  {
   "cell_type": "markdown",
   "id": "9f35dfa8",
   "metadata": {},
   "source": [
    "### PyTorch 모델 학습\n",
    "- torch.nn.Module로 신경망 모델 만들기 - 텐서플로우(함수)와 차이점 확인\n",
    "- 손실 함수, 옵티마이저 설정학습\n",
    "- 학습 루프 기본 구조 학습"
   ]
  },
  {
   "cell_type": "markdown",
   "id": "4e1d3450",
   "metadata": {},
   "source": [
    "#### 기본 구조 추가"
   ]
  },
  {
   "cell_type": "code",
   "execution_count": 325,
   "id": "9466d0c2",
   "metadata": {},
   "outputs": [],
   "source": [
    "# 파이토치 모듈 로드\n",
    "import torch\n",
    "import torch.nn as nn\n",
    "import torch.nn.functional as F  # 보통 F로 사용\n",
    "\n",
    "# 모델 선언(클래스)\n",
    "class SimpleNet(nn.Module):     # nn.Model 클래스를 상속해서 클래스 생성\n",
    "    def __init__(self):\n",
    "        super(SimpleNet, self).__init__()\n",
    "        # Linear : Dense Layer(케라스의 Dense()와 동일)\n",
    "        self.fc1 = nn.Linear(4, 16)     # input : 4개 입력, output 16개 뉴런\n",
    "        self.fc2 = nn.Linear(16, 3)     # input : 16개 입력, output 3개 클래스(3가지 분류 예측)\n",
    "\n",
    "    def forward(self, x):          # 실제 연산이 수행되는 함수(자동호출)\n",
    "        x = F.relu(self.fc1(x))     # 첫번째 레이어통과  - 활성화함수(시그모이드, 소프트맥스, 렐루 모두 존재)\n",
    "        x = self.fc2(x)             # 두번째 레이어 통과 - 출력층 (필요시 softmax함수 사용)\n",
    "        return x"
   ]
  },
  {
   "cell_type": "markdown",
   "id": "0d416a01",
   "metadata": {},
   "source": [
    "- 텐서플로우(케라스)는 중간층에서 입력값을 설정하지 않아도 됨\n",
    "- 파이토치는 입력값, 출력값을 모두 설정해야 함"
   ]
  },
  {
   "cell_type": "code",
   "execution_count": 326,
   "id": "29ce1c3d",
   "metadata": {},
   "outputs": [
    {
     "data": {
      "text/plain": [
       "SimpleNet(\n",
       "  (fc1): Linear(in_features=4, out_features=16, bias=True)\n",
       "  (fc2): Linear(in_features=16, out_features=3, bias=True)\n",
       ")"
      ]
     },
     "execution_count": 326,
     "metadata": {},
     "output_type": "execute_result"
    }
   ],
   "source": [
    "# 모델확인 \n",
    "model = SimpleNet()\n",
    "model"
   ]
  },
  {
   "cell_type": "code",
   "execution_count": 327,
   "id": "360485c0",
   "metadata": {},
   "outputs": [
    {
     "data": {
      "text/plain": [
       "tensor([[0.8665, 0.3841, 0.4628, 0.6913]])"
      ]
     },
     "execution_count": 327,
     "metadata": {},
     "output_type": "execute_result"
    }
   ],
   "source": [
    "# 샘플입력값\n",
    "x = torch.rand(1, 4)\n",
    "x"
   ]
  },
  {
   "cell_type": "code",
   "execution_count": 328,
   "id": "87e1575b",
   "metadata": {},
   "outputs": [
    {
     "data": {
      "text/plain": [
       "tensor([[-0.1899, -0.1418, -0.1149]], grad_fn=<AddmmBackward0>)"
      ]
     },
     "execution_count": 328,
     "metadata": {},
     "output_type": "execute_result"
    }
   ],
   "source": [
    "out = model(x)\n",
    "out"
   ]
  },
  {
   "cell_type": "markdown",
   "id": "d2553562",
   "metadata": {},
   "source": [
    "#### 손실함수/옵티마이저 설정"
   ]
  },
  {
   "cell_type": "code",
   "execution_count": 329,
   "id": "7094066d",
   "metadata": {},
   "outputs": [],
   "source": [
    "# 분류(마지막 출력 3개) CrossEntropyLoss - \n",
    "criterion = nn.CrossEntropyLoss()\n",
    "\n",
    "# 옵티마이저(Adam 권장)\n",
    "optimizer = torch.optim.Adam(model.parameters(), lr=0.01)   # lr(learning rate)학습률 : 보통 0.01 ~ 0.0001 사이로 지정"
   ]
  },
  {
   "cell_type": "markdown",
   "id": "759cdf35",
   "metadata": {},
   "source": [
    "#### 1회 Epoch 학습"
   ]
  },
  {
   "cell_type": "code",
   "execution_count": 330,
   "id": "dda8d0d6",
   "metadata": {},
   "outputs": [
    {
     "data": {
      "text/plain": [
       "1.0919997692108154"
      ]
     },
     "execution_count": 330,
     "metadata": {},
     "output_type": "execute_result"
    }
   ],
   "source": [
    "y = torch.tensor([1])\n",
    "\n",
    "# Forward\n",
    "# 예측\n",
    "output = model(x)\n",
    "# 손실계산\n",
    "loss = criterion(output, y)\n",
    "\n",
    "# Backward(역전파) : 뉴런을 통과한 값이 다시 다음 훈련의 입력으로 사용\n",
    "# 기울기 초기화\n",
    "optimizer.zero_grad()   # 이전 단계 계산된 gradient(기울기/가중치) 초기화\n",
    "# 역전파 계산\n",
    "loss.backward()     # 손실 기준으로 각 파라미터에 대한 gradient 계산(오차 역전파)\n",
    "# 파라미터 업데이트\n",
    "optimizer.step()    # 계산한 gradient를 이용, 파라미터 업데이트(학습훈련)\n",
    "\n",
    "# 현재 손실값을 출력\n",
    "loss.item()"
   ]
  },
  {
   "cell_type": "markdown",
   "id": "d276188c",
   "metadata": {},
   "source": [
    "### 데이터셋, 데이터로더\n",
    "- `Dataset`, `DataLoader` 학습\n",
    "- 내장 데이터셋\n",
    "- 커스텀 데이터셋 만들기\n",
    "- 배치 학습 처리"
   ]
  },
  {
   "cell_type": "markdown",
   "id": "42b5c865",
   "metadata": {},
   "source": [
    "#### 데이터셋, 데이터로더란?\n",
    "- Dataset - 데이터를 불러오는 방법\n",
    "- DataLoader - 데이터를 배치 단위로 나눠기, 셔플, 병렬처리 방법"
   ]
  },
  {
   "cell_type": "markdown",
   "id": "63e81739",
   "metadata": {},
   "source": [
    "#### 추가\n",
    "- 머신러닝, 딥러닝에 사용되는 데이터샘플 종류 예제"
   ]
  },
  {
   "cell_type": "code",
   "execution_count": 331,
   "id": "336d3dba",
   "metadata": {},
   "outputs": [],
   "source": [
    "from sklearn.datasets import load_breast_cancer, load_iris, load_wine  # 11개 데이터셋\n",
    "import seaborn as sns\n",
    "\n",
    "datas = sns.load_dataset('titanic')    # https://github.com/mwaskom/seaborn-data 확인\n",
    "\n",
    "from torchvision.datasets import FashionMNIST, MNIST, CIFAR10   # 이미지 데이터셋\n",
    "from keras.datasets import mnist, fashion_mnist, boston_housing, cifar10, cifar100, imdb    # 이미지, 텍스트 데이터셋"
   ]
  },
  {
   "cell_type": "code",
   "execution_count": 332,
   "id": "b76d2cd9",
   "metadata": {},
   "outputs": [
    {
     "data": {
      "text/html": [
       "<div>\n",
       "<style scoped>\n",
       "    .dataframe tbody tr th:only-of-type {\n",
       "        vertical-align: middle;\n",
       "    }\n",
       "\n",
       "    .dataframe tbody tr th {\n",
       "        vertical-align: top;\n",
       "    }\n",
       "\n",
       "    .dataframe thead th {\n",
       "        text-align: right;\n",
       "    }\n",
       "</style>\n",
       "<table border=\"1\" class=\"dataframe\">\n",
       "  <thead>\n",
       "    <tr style=\"text-align: right;\">\n",
       "      <th></th>\n",
       "      <th>survived</th>\n",
       "      <th>pclass</th>\n",
       "      <th>sex</th>\n",
       "      <th>age</th>\n",
       "      <th>sibsp</th>\n",
       "      <th>parch</th>\n",
       "      <th>fare</th>\n",
       "      <th>embarked</th>\n",
       "      <th>class</th>\n",
       "      <th>who</th>\n",
       "      <th>adult_male</th>\n",
       "      <th>deck</th>\n",
       "      <th>embark_town</th>\n",
       "      <th>alive</th>\n",
       "      <th>alone</th>\n",
       "    </tr>\n",
       "  </thead>\n",
       "  <tbody>\n",
       "    <tr>\n",
       "      <th>0</th>\n",
       "      <td>0</td>\n",
       "      <td>3</td>\n",
       "      <td>male</td>\n",
       "      <td>22.0</td>\n",
       "      <td>1</td>\n",
       "      <td>0</td>\n",
       "      <td>7.2500</td>\n",
       "      <td>S</td>\n",
       "      <td>Third</td>\n",
       "      <td>man</td>\n",
       "      <td>True</td>\n",
       "      <td>NaN</td>\n",
       "      <td>Southampton</td>\n",
       "      <td>no</td>\n",
       "      <td>False</td>\n",
       "    </tr>\n",
       "    <tr>\n",
       "      <th>1</th>\n",
       "      <td>1</td>\n",
       "      <td>1</td>\n",
       "      <td>female</td>\n",
       "      <td>38.0</td>\n",
       "      <td>1</td>\n",
       "      <td>0</td>\n",
       "      <td>71.2833</td>\n",
       "      <td>C</td>\n",
       "      <td>First</td>\n",
       "      <td>woman</td>\n",
       "      <td>False</td>\n",
       "      <td>C</td>\n",
       "      <td>Cherbourg</td>\n",
       "      <td>yes</td>\n",
       "      <td>False</td>\n",
       "    </tr>\n",
       "    <tr>\n",
       "      <th>2</th>\n",
       "      <td>1</td>\n",
       "      <td>3</td>\n",
       "      <td>female</td>\n",
       "      <td>26.0</td>\n",
       "      <td>0</td>\n",
       "      <td>0</td>\n",
       "      <td>7.9250</td>\n",
       "      <td>S</td>\n",
       "      <td>Third</td>\n",
       "      <td>woman</td>\n",
       "      <td>False</td>\n",
       "      <td>NaN</td>\n",
       "      <td>Southampton</td>\n",
       "      <td>yes</td>\n",
       "      <td>True</td>\n",
       "    </tr>\n",
       "    <tr>\n",
       "      <th>3</th>\n",
       "      <td>1</td>\n",
       "      <td>1</td>\n",
       "      <td>female</td>\n",
       "      <td>35.0</td>\n",
       "      <td>1</td>\n",
       "      <td>0</td>\n",
       "      <td>53.1000</td>\n",
       "      <td>S</td>\n",
       "      <td>First</td>\n",
       "      <td>woman</td>\n",
       "      <td>False</td>\n",
       "      <td>C</td>\n",
       "      <td>Southampton</td>\n",
       "      <td>yes</td>\n",
       "      <td>False</td>\n",
       "    </tr>\n",
       "    <tr>\n",
       "      <th>4</th>\n",
       "      <td>0</td>\n",
       "      <td>3</td>\n",
       "      <td>male</td>\n",
       "      <td>35.0</td>\n",
       "      <td>0</td>\n",
       "      <td>0</td>\n",
       "      <td>8.0500</td>\n",
       "      <td>S</td>\n",
       "      <td>Third</td>\n",
       "      <td>man</td>\n",
       "      <td>True</td>\n",
       "      <td>NaN</td>\n",
       "      <td>Southampton</td>\n",
       "      <td>no</td>\n",
       "      <td>True</td>\n",
       "    </tr>\n",
       "    <tr>\n",
       "      <th>...</th>\n",
       "      <td>...</td>\n",
       "      <td>...</td>\n",
       "      <td>...</td>\n",
       "      <td>...</td>\n",
       "      <td>...</td>\n",
       "      <td>...</td>\n",
       "      <td>...</td>\n",
       "      <td>...</td>\n",
       "      <td>...</td>\n",
       "      <td>...</td>\n",
       "      <td>...</td>\n",
       "      <td>...</td>\n",
       "      <td>...</td>\n",
       "      <td>...</td>\n",
       "      <td>...</td>\n",
       "    </tr>\n",
       "    <tr>\n",
       "      <th>886</th>\n",
       "      <td>0</td>\n",
       "      <td>2</td>\n",
       "      <td>male</td>\n",
       "      <td>27.0</td>\n",
       "      <td>0</td>\n",
       "      <td>0</td>\n",
       "      <td>13.0000</td>\n",
       "      <td>S</td>\n",
       "      <td>Second</td>\n",
       "      <td>man</td>\n",
       "      <td>True</td>\n",
       "      <td>NaN</td>\n",
       "      <td>Southampton</td>\n",
       "      <td>no</td>\n",
       "      <td>True</td>\n",
       "    </tr>\n",
       "    <tr>\n",
       "      <th>887</th>\n",
       "      <td>1</td>\n",
       "      <td>1</td>\n",
       "      <td>female</td>\n",
       "      <td>19.0</td>\n",
       "      <td>0</td>\n",
       "      <td>0</td>\n",
       "      <td>30.0000</td>\n",
       "      <td>S</td>\n",
       "      <td>First</td>\n",
       "      <td>woman</td>\n",
       "      <td>False</td>\n",
       "      <td>B</td>\n",
       "      <td>Southampton</td>\n",
       "      <td>yes</td>\n",
       "      <td>True</td>\n",
       "    </tr>\n",
       "    <tr>\n",
       "      <th>888</th>\n",
       "      <td>0</td>\n",
       "      <td>3</td>\n",
       "      <td>female</td>\n",
       "      <td>NaN</td>\n",
       "      <td>1</td>\n",
       "      <td>2</td>\n",
       "      <td>23.4500</td>\n",
       "      <td>S</td>\n",
       "      <td>Third</td>\n",
       "      <td>woman</td>\n",
       "      <td>False</td>\n",
       "      <td>NaN</td>\n",
       "      <td>Southampton</td>\n",
       "      <td>no</td>\n",
       "      <td>False</td>\n",
       "    </tr>\n",
       "    <tr>\n",
       "      <th>889</th>\n",
       "      <td>1</td>\n",
       "      <td>1</td>\n",
       "      <td>male</td>\n",
       "      <td>26.0</td>\n",
       "      <td>0</td>\n",
       "      <td>0</td>\n",
       "      <td>30.0000</td>\n",
       "      <td>C</td>\n",
       "      <td>First</td>\n",
       "      <td>man</td>\n",
       "      <td>True</td>\n",
       "      <td>C</td>\n",
       "      <td>Cherbourg</td>\n",
       "      <td>yes</td>\n",
       "      <td>True</td>\n",
       "    </tr>\n",
       "    <tr>\n",
       "      <th>890</th>\n",
       "      <td>0</td>\n",
       "      <td>3</td>\n",
       "      <td>male</td>\n",
       "      <td>32.0</td>\n",
       "      <td>0</td>\n",
       "      <td>0</td>\n",
       "      <td>7.7500</td>\n",
       "      <td>Q</td>\n",
       "      <td>Third</td>\n",
       "      <td>man</td>\n",
       "      <td>True</td>\n",
       "      <td>NaN</td>\n",
       "      <td>Queenstown</td>\n",
       "      <td>no</td>\n",
       "      <td>True</td>\n",
       "    </tr>\n",
       "  </tbody>\n",
       "</table>\n",
       "<p>891 rows × 15 columns</p>\n",
       "</div>"
      ],
      "text/plain": [
       "     survived  pclass     sex   age  ...  deck  embark_town  alive  alone\n",
       "0           0       3    male  22.0  ...   NaN  Southampton     no  False\n",
       "1           1       1  female  38.0  ...     C    Cherbourg    yes  False\n",
       "2           1       3  female  26.0  ...   NaN  Southampton    yes   True\n",
       "3           1       1  female  35.0  ...     C  Southampton    yes  False\n",
       "4           0       3    male  35.0  ...   NaN  Southampton     no   True\n",
       "..        ...     ...     ...   ...  ...   ...          ...    ...    ...\n",
       "886         0       2    male  27.0  ...   NaN  Southampton     no   True\n",
       "887         1       1  female  19.0  ...     B  Southampton    yes   True\n",
       "888         0       3  female   NaN  ...   NaN  Southampton     no  False\n",
       "889         1       1    male  26.0  ...     C    Cherbourg    yes   True\n",
       "890         0       3    male  32.0  ...   NaN   Queenstown     no   True\n",
       "\n",
       "[891 rows x 15 columns]"
      ]
     },
     "execution_count": 332,
     "metadata": {},
     "output_type": "execute_result"
    }
   ],
   "source": [
    "datas"
   ]
  },
  {
   "cell_type": "markdown",
   "id": "4b53b193",
   "metadata": {},
   "source": [
    "#### 붓꽃(Iris) 데이터셋 사용"
   ]
  },
  {
   "cell_type": "code",
   "execution_count": 333,
   "id": "998170ed",
   "metadata": {},
   "outputs": [],
   "source": [
    "# 데이터셋 처리 모듈 로드\n",
    "from sklearn.datasets import load_iris, load_wine\n",
    "from sklearn.preprocessing import StandardScaler\n",
    "from sklearn.model_selection import train_test_split\n",
    "import torch\n",
    "from torch.utils.data import Dataset, DataLoader"
   ]
  },
  {
   "cell_type": "code",
   "execution_count": 334,
   "id": "73453135",
   "metadata": {},
   "outputs": [
    {
     "name": "stdout",
     "output_type": "stream",
     "text": [
      "(150, 4) (150,)\n"
     ]
    }
   ],
   "source": [
    "# 데이터 로드\n",
    "iris = load_iris()\n",
    "\n",
    "# 입력(특성)데이터 X, 타겟 y == input, target\n",
    "X = iris['data']\n",
    "y = iris['target']\n",
    "\n",
    "print(X.shape, y.shape) # numpy 데이터"
   ]
  },
  {
   "cell_type": "code",
   "execution_count": 335,
   "id": "0869c46a",
   "metadata": {},
   "outputs": [
    {
     "data": {
      "text/plain": [
       "array([5.1, 3.5, 1.4, 0.2])"
      ]
     },
     "execution_count": 335,
     "metadata": {},
     "output_type": "execute_result"
    }
   ],
   "source": [
    "# sepal(꽃받침) length(cm), sepal width(cm), petal(꽃잎) length(cm), petal width(cm)\n",
    "X[0, :]"
   ]
  },
  {
   "cell_type": "code",
   "execution_count": 336,
   "id": "4b16b7a4",
   "metadata": {},
   "outputs": [
    {
     "data": {
      "text/plain": [
       "array([0, 0, 0, 0, 0, 0, 0, 0, 0, 0, 0, 0, 0, 0, 0, 0, 0, 0, 0, 0, 0, 0,\n",
       "       0, 0, 0, 0, 0, 0, 0, 0, 0, 0, 0, 0, 0, 0, 0, 0, 0, 0, 0, 0, 0, 0,\n",
       "       0, 0, 0, 0, 0, 0, 1, 1, 1, 1, 1, 1, 1, 1, 1, 1, 1, 1, 1, 1, 1, 1,\n",
       "       1, 1, 1, 1, 1, 1, 1, 1, 1, 1, 1, 1, 1, 1, 1, 1, 1, 1, 1, 1, 1, 1,\n",
       "       1, 1, 1, 1, 1, 1, 1, 1, 1, 1, 1, 1, 2, 2, 2, 2, 2, 2, 2, 2, 2, 2,\n",
       "       2, 2, 2, 2, 2, 2, 2, 2, 2, 2, 2, 2, 2, 2, 2, 2, 2, 2, 2, 2, 2, 2,\n",
       "       2, 2, 2, 2, 2, 2, 2, 2, 2, 2, 2, 2, 2, 2, 2, 2, 2, 2])"
      ]
     },
     "execution_count": 336,
     "metadata": {},
     "output_type": "execute_result"
    }
   ],
   "source": [
    "# 0(setosa), 1(versicolor), 2(virginica)\n",
    "y"
   ]
  },
  {
   "cell_type": "code",
   "execution_count": 337,
   "id": "73be65dc",
   "metadata": {},
   "outputs": [],
   "source": [
    "# 표준화(정규화)\n",
    "scaler = StandardScaler()   # 사이킷런의 표준정규화 클래스 사용\n",
    "X = scaler.fit_transform(X)"
   ]
  },
  {
   "cell_type": "code",
   "execution_count": 338,
   "id": "1782ce18",
   "metadata": {},
   "outputs": [
    {
     "data": {
      "text/plain": [
       "array([-0.90068117,  1.01900435, -1.34022653, -1.3154443 ])"
      ]
     },
     "execution_count": 338,
     "metadata": {},
     "output_type": "execute_result"
    }
   ],
   "source": [
    "X[0, :]"
   ]
  },
  {
   "cell_type": "code",
   "execution_count": 339,
   "id": "9b8f243f",
   "metadata": {},
   "outputs": [],
   "source": [
    "# 훈련/테스트세트 분리\n",
    "train_scaled, test_scaled, train_target, test_target = train_test_split(X, y, test_size=0.2, random_state=42)"
   ]
  },
  {
   "cell_type": "code",
   "execution_count": 340,
   "id": "3b91ed5b",
   "metadata": {},
   "outputs": [],
   "source": [
    "# 훈련/검증세트 분리\n",
    "train_scaled, val_scaled, train_target, val_target = train_test_split(train_scaled, train_target, test_size=0.2, random_state=42)"
   ]
  },
  {
   "cell_type": "code",
   "execution_count": 341,
   "id": "0cd32288",
   "metadata": {},
   "outputs": [
    {
     "name": "stdout",
     "output_type": "stream",
     "text": [
      "(96, 4) (24, 4) (30, 4)\n"
     ]
    }
   ],
   "source": [
    "print(train_scaled.shape, val_scaled.shape, test_scaled.shape)"
   ]
  },
  {
   "cell_type": "code",
   "execution_count": 342,
   "id": "d4533652",
   "metadata": {},
   "outputs": [
    {
     "data": {
      "text/plain": [
       "array([2, 1, 1, 0, 2, 2, 2, 0, 1, 2, 2, 1, 2, 1, 1, 0, 0, 1, 2, 0, 0, 2,\n",
       "       2, 1, 2, 1, 1, 0, 2, 0, 1, 2, 0, 2, 0, 0, 2, 0, 2, 1, 2, 0, 0, 0,\n",
       "       0, 2, 0, 0, 1, 2, 1, 0, 1, 2, 1, 2, 2, 2, 2, 1, 1, 0, 0, 0, 2, 0,\n",
       "       0, 0, 2, 1, 2, 1, 2, 1, 1, 0, 0, 2, 1, 0, 2, 1, 2, 1, 2, 1, 1, 2,\n",
       "       1, 1, 0, 2, 0, 1, 0, 0])"
      ]
     },
     "execution_count": 342,
     "metadata": {},
     "output_type": "execute_result"
    }
   ],
   "source": [
    "train_target"
   ]
  },
  {
   "cell_type": "markdown",
   "id": "d80a8cbf",
   "metadata": {},
   "source": [
    "#### 커스텀 데이터셋 만들기"
   ]
  },
  {
   "cell_type": "code",
   "execution_count": 343,
   "id": "39353c6c",
   "metadata": {},
   "outputs": [],
   "source": [
    "class IrisDataset(Dataset):\n",
    "    def __init__(self, X, y):\n",
    "        self.X = torch.tensor(X, dtype=torch.float32)       # 특성(입력)값은 실수\n",
    "        self.y = torch.tensor(y, dtype=torch.long)          # CrossEntropyLoss에서는 long타입 필요\n",
    "\n",
    "    def __len__(self):\n",
    "        return len(self.X)\n",
    "    \n",
    "    def __getitem__(self, index):\n",
    "        return self.X[index], self.y[index]"
   ]
  },
  {
   "cell_type": "markdown",
   "id": "6a30a0b6",
   "metadata": {},
   "source": [
    "- 데이터셋으로 묶고, 데이터로더로 묶기"
   ]
  },
  {
   "cell_type": "code",
   "execution_count": 344,
   "id": "7e21cd8c",
   "metadata": {},
   "outputs": [],
   "source": [
    "# 커스텀 데이터셋으로 생성 - 입력(특성)과  타겟을 하나로 묶음\n",
    "train_dataset = IrisDataset(train_scaled, train_target)\n",
    "val_dataset = IrisDataset(val_scaled, val_target)"
   ]
  },
  {
   "cell_type": "code",
   "execution_count": 345,
   "id": "f0bc9609",
   "metadata": {},
   "outputs": [],
   "source": [
    "# 데이터로더로 생성 - 배치학습, 셔플, 병렬데이터 로딩\n",
    "train_loader = DataLoader(train_dataset, batch_size=8, shuffle=True)\n",
    "val_loader = DataLoader(val_dataset, batch_size=8)"
   ]
  },
  {
   "cell_type": "markdown",
   "id": "0e3433a9",
   "metadata": {},
   "source": [
    "- 실제 모델 훈련에서는 `DataLoader`를 사용"
   ]
  },
  {
   "cell_type": "markdown",
   "id": "4d11f87e",
   "metadata": {},
   "source": [
    "#### 배치 학습 반복"
   ]
  },
  {
   "cell_type": "code",
   "execution_count": 346,
   "id": "c7c42c38",
   "metadata": {},
   "outputs": [
    {
     "name": "stdout",
     "output_type": "stream",
     "text": [
      "Batch loss : 1.1684107780456543 / 1\n",
      "Batch loss : 1.194915771484375 / 2\n",
      "Batch loss : 1.1740835905075073 / 3\n",
      "Batch loss : 1.125962495803833 / 4\n",
      "Batch loss : 1.1981099843978882 / 5\n",
      "Batch loss : 1.1461659669876099 / 6\n",
      "Batch loss : 1.2598875761032104 / 7\n",
      "Batch loss : 1.2092711925506592 / 8\n",
      "Batch loss : 1.199002742767334 / 9\n",
      "Batch loss : 1.21478271484375 / 10\n",
      "Batch loss : 1.1852695941925049 / 11\n",
      "Batch loss : 1.2566529512405396 / 12\n"
     ]
    }
   ],
   "source": [
    "i = 1\n",
    "for batch_input, batch_target in train_loader:  \n",
    "    output = model(batch_input)\n",
    "    loss = criterion(output, batch_target)\n",
    "\n",
    "    print(f'Batch loss : {loss.item()} / {i}')\n",
    "    i = i + 1"
   ]
  },
  {
   "cell_type": "markdown",
   "id": "f876e43b",
   "metadata": {},
   "source": [
    "- 96개 입력을 16으로 나눔 : 배치사이즈가 16이니까 6번 epoch"
   ]
  },
  {
   "cell_type": "markdown",
   "id": "e6f6b083",
   "metadata": {},
   "source": [
    "### 학습 루프 작성\n",
    "- 전체 학습 루프 구성\n",
    "- Epoch, Batch 사용\n",
    "- train(), evaluate() 확인"
   ]
  },
  {
   "cell_type": "markdown",
   "id": "61b6f910",
   "metadata": {},
   "source": [
    "#### 신경망 클래스 정의"
   ]
  },
  {
   "cell_type": "code",
   "execution_count": 347,
   "id": "bb1e78c2",
   "metadata": {},
   "outputs": [],
   "source": [
    "# 아이리스용 신경망\n",
    "class IrisNet(nn.Module):\n",
    "    def __init__(self):\n",
    "        super(IrisNet, self).__init__()\n",
    "        self.fc1 = nn.Linear(4, 16)        # fc1 : Full Connected Layer / tensorflow Dense() 와 동일\n",
    "        self.fc2 = nn.Linear(16, 3)\n",
    "    \n",
    "    def forward(self, x):\n",
    "        x = F.relu(self.fc1(x))\n",
    "        x = self.fc2(x)\n",
    "        return x"
   ]
  },
  {
   "cell_type": "markdown",
   "id": "01809031",
   "metadata": {},
   "source": [
    "#### Iris 데이터 준비"
   ]
  },
  {
   "cell_type": "code",
   "execution_count": 348,
   "id": "5181a547",
   "metadata": {},
   "outputs": [],
   "source": [
    "# 커스텀 데이터셋\n",
    "class IrisDataset(Dataset):\n",
    "    def __init__(self, X, y):\n",
    "        self.X = torch.tensor(X, dtype=torch.float32)\n",
    "        self.y = torch.tensor(y, dtype=torch.long)\n",
    "\n",
    "    def __len__(self):\n",
    "        return len(self.X)\n",
    "    \n",
    "    def __getitem__(self, index):\n",
    "        return self.X[index], self.y[index]\n",
    "\n",
    "iris = load_iris()\n",
    "X = StandardScaler().fit_transform(iris.data)\n",
    "y = iris.target\n",
    "\n",
    "X_train, X_val, y_train, y_val = train_test_split(X, y, test_size=0.2, random_state=42)\n",
    "\n",
    "# Dataset, DataLoader 합쳐서 생성\n",
    "train_loader = DataLoader(IrisDataset(X_train, y_train), batch_size=8, shuffle=True)\n",
    "val_loader = DataLoader(IrisDataset(X_val, y_val), batch_size=8)\n"
   ]
  },
  {
   "cell_type": "markdown",
   "id": "797470b9",
   "metadata": {},
   "source": [
    "#### 모델 디바이스 전달"
   ]
  },
  {
   "cell_type": "code",
   "execution_count": 349,
   "id": "260b5e3d",
   "metadata": {},
   "outputs": [],
   "source": [
    "model = IrisNet().to(device)\n",
    "criterion = nn.CrossEntropyLoss()\n",
    "optimizer = torch.optim.Adam(model.parameters(), lr=0.01)"
   ]
  },
  {
   "cell_type": "code",
   "execution_count": 350,
   "id": "7908097d",
   "metadata": {},
   "outputs": [
    {
     "data": {
      "text/plain": [
       "IrisNet(\n",
       "  (fc1): Linear(in_features=4, out_features=16, bias=True)\n",
       "  (fc2): Linear(in_features=16, out_features=3, bias=True)\n",
       ")"
      ]
     },
     "execution_count": 350,
     "metadata": {},
     "output_type": "execute_result"
    }
   ],
   "source": [
    "model"
   ]
  },
  {
   "cell_type": "code",
   "execution_count": 351,
   "id": "58512ea5",
   "metadata": {},
   "outputs": [
    {
     "data": {
      "text/plain": [
       "CrossEntropyLoss()"
      ]
     },
     "execution_count": 351,
     "metadata": {},
     "output_type": "execute_result"
    }
   ],
   "source": [
    "criterion"
   ]
  },
  {
   "cell_type": "code",
   "execution_count": 352,
   "id": "3be54c93",
   "metadata": {},
   "outputs": [
    {
     "data": {
      "text/plain": [
       "Adam (\n",
       "Parameter Group 0\n",
       "    amsgrad: False\n",
       "    betas: (0.9, 0.999)\n",
       "    capturable: False\n",
       "    differentiable: False\n",
       "    eps: 1e-08\n",
       "    foreach: None\n",
       "    fused: None\n",
       "    lr: 0.01\n",
       "    maximize: False\n",
       "    weight_decay: 0\n",
       ")"
      ]
     },
     "execution_count": 352,
     "metadata": {},
     "output_type": "execute_result"
    }
   ],
   "source": [
    "optimizer"
   ]
  },
  {
   "cell_type": "markdown",
   "id": "499b992a",
   "metadata": {},
   "source": [
    "#### 훈련 루프 함수 / 평가함수"
   ]
  },
  {
   "cell_type": "code",
   "execution_count": 353,
   "id": "a98994ef",
   "metadata": {},
   "outputs": [],
   "source": [
    "# 훈련 루프함수\n",
    "def train(model, dataloader, criterion, optimizer):\n",
    "    model.train()   # 훈련모드\n",
    "    total_loss = 0\n",
    "\n",
    "    for X_batch, y_batch in dataloader:\n",
    "        X_batch, y_batch = X_batch.to(device), y_batch.to(device)\n",
    "\n",
    "        optimizer.zero_grad()\n",
    "        outputs = model(X_batch)\n",
    "        loss = criterion(outputs, y_batch)\n",
    "        loss.backward()\n",
    "        optimizer.step()\n",
    "\n",
    "        total_loss += loss.item()\n",
    "\n",
    "    avg_loss = total_loss / len(dataloader)\n",
    "    return avg_loss"
   ]
  },
  {
   "cell_type": "code",
   "execution_count": 356,
   "id": "257c05c9",
   "metadata": {},
   "outputs": [],
   "source": [
    "# 평가함수 \n",
    "def evaluate(model, dataloader, criterion):\n",
    "    model.eval()    # 평가모드\n",
    "    total_loss = 0\n",
    "    correct = 0\n",
    "    total = 0\n",
    "\n",
    "    with torch.no_grad():   # 평가시에는 그레디언트 꺼줌\n",
    "        for X_batch, y_batch in dataloader:\n",
    "            X_batch, y_batch = X_batch.to(device), y_batch.to(device)\n",
    "            outputs = model(X_batch)\n",
    "            loss = criterion(outputs, y_batch)\n",
    "            total_loss += loss.item()\n",
    "            \n",
    "            # 정확도\n",
    "            preds = torch.argmax(outputs, dim=1)    # 제일 확률이 큰 값의 인덱스 (0, 1, 2)중 하나 값 선택\n",
    "            correct += (preds == y_batch).sum().item()\n",
    "            total += y_batch.size(0)\n",
    "\n",
    "    avg_loss = total_loss / len(dataloader)\n",
    "    accuracy = correct / total\n",
    "    return avg_loss, accuracy"
   ]
  },
  {
   "cell_type": "markdown",
   "id": "8b07225f",
   "metadata": {},
   "source": [
    "#### 훈련 실행"
   ]
  },
  {
   "cell_type": "code",
   "execution_count": 357,
   "id": "11b200ab",
   "metadata": {},
   "outputs": [
    {
     "name": "stdout",
     "output_type": "stream",
     "text": [
      "[1/20] Train Loss: 0.456 | Val Loss: 0.311, Val Accuracy: 86.67%\n",
      "[2/20] Train Loss: 0.347 | Val Loss: 0.237, Val Accuracy: 93.33%\n",
      "[3/20] Train Loss: 0.301 | Val Loss: 0.198, Val Accuracy: 93.33%\n",
      "[4/20] Train Loss: 0.246 | Val Loss: 0.163, Val Accuracy: 93.33%\n",
      "[5/20] Train Loss: 0.213 | Val Loss: 0.133, Val Accuracy: 96.67%\n",
      "[6/20] Train Loss: 0.173 | Val Loss: 0.111, Val Accuracy: 100.00%\n",
      "[7/20] Train Loss: 0.145 | Val Loss: 0.089, Val Accuracy: 100.00%\n",
      "[8/20] Train Loss: 0.128 | Val Loss: 0.089, Val Accuracy: 96.67%\n",
      "[9/20] Train Loss: 0.109 | Val Loss: 0.071, Val Accuracy: 100.00%\n",
      "[10/20] Train Loss: 0.099 | Val Loss: 0.065, Val Accuracy: 100.00%\n",
      "[11/20] Train Loss: 0.091 | Val Loss: 0.061, Val Accuracy: 100.00%\n",
      "[12/20] Train Loss: 0.094 | Val Loss: 0.055, Val Accuracy: 100.00%\n",
      "[13/20] Train Loss: 0.079 | Val Loss: 0.051, Val Accuracy: 100.00%\n",
      "[14/20] Train Loss: 0.077 | Val Loss: 0.047, Val Accuracy: 100.00%\n",
      "[15/20] Train Loss: 0.077 | Val Loss: 0.046, Val Accuracy: 100.00%\n",
      "[16/20] Train Loss: 0.083 | Val Loss: 0.047, Val Accuracy: 96.67%\n",
      "[17/20] Train Loss: 0.070 | Val Loss: 0.040, Val Accuracy: 100.00%\n",
      "[18/20] Train Loss: 0.065 | Val Loss: 0.041, Val Accuracy: 100.00%\n",
      "[19/20] Train Loss: 0.072 | Val Loss: 0.048, Val Accuracy: 96.67%\n",
      "[20/20] Train Loss: 0.062 | Val Loss: 0.039, Val Accuracy: 100.00%\n"
     ]
    }
   ],
   "source": [
    "EPOCH = 20\n",
    "\n",
    "for epoch in range(EPOCH):\n",
    "    train_loss = train(model, train_loader, criterion, optimizer)\n",
    "    val_loss, val_acc = evaluate(model, val_loader, criterion)\n",
    "\n",
    "    print(f'[{epoch+1}/{EPOCH}] Train Loss: {train_loss:.3f} | Val Loss: {val_loss:.3f}, Val Accuracy: {val_acc:.2%}')"
   ]
  },
  {
   "cell_type": "markdown",
   "id": "fb7ebdbe",
   "metadata": {},
   "source": [
    "- CUDA로 0.7s"
   ]
  }
 ],
 "metadata": {
  "kernelspec": {
   "display_name": "mlvenv",
   "language": "python",
   "name": "python3"
  },
  "language_info": {
   "codemirror_mode": {
    "name": "ipython",
    "version": 3
   },
   "file_extension": ".py",
   "mimetype": "text/x-python",
   "name": "python",
   "nbconvert_exporter": "python",
   "pygments_lexer": "ipython3",
   "version": "3.11.9"
  }
 },
 "nbformat": 4,
 "nbformat_minor": 5
}
