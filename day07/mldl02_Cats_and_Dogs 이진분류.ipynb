{
 "cells": [
  {
   "cell_type": "markdown",
   "id": "92460333",
   "metadata": {},
   "source": [
    "## Cats and Dogs 이진 분류\n",
    "\n",
    "이진분류 프로젝트\n",
    "\n",
    "개요\n",
    "\n",
    "- 목표 : CNN으로 개와 고양이 이미지 분류기"
   ]
  },
  {
   "cell_type": "markdown",
   "id": "8ef4b7b8",
   "metadata": {},
   "source": [
    "#### Kaggle 데이터 다운로드\n",
    "- 캐글이 뭐에요?\n",
    "    - https://www.kaggle.com\n",
    "    \n",
    "1. Kaggle 계정 만들기\n",
    "2. 설정 진입\n",
    "    - https://www.kaggle.com/settings\n",
    "\n",
    "3. 파이썬 Kaggle 패키지 설치\n",
    "    - > !pip install kaggle\n",
    "\n",
    "4. kaggle.json 파일 위치\n",
    "    - 리눅스/유닉스 : ~/.kaggle/kaggle.json\n",
    "    - 윈도우 : %USERPROFILE%\\.kaggle\n",
    "        - 사용자 폴더 아래\n",
    "    - 다운받은 json 붙혀넣기"
   ]
  },
  {
   "cell_type": "code",
   "execution_count": null,
   "id": "a014c1f1",
   "metadata": {},
   "outputs": [],
   "source": [
    "!pip install kaggle"
   ]
  },
  {
   "cell_type": "code",
   "execution_count": 2,
   "id": "78134cad",
   "metadata": {},
   "outputs": [
    {
     "name": "stdout",
     "output_type": "stream",
     "text": [
      "403 Client Error: Forbidden for url: https://www.kaggle.com/api/v1/competitions/data/download-all/dogs-vs-cats\n"
     ]
    }
   ],
   "source": [
    "#데이터셋 다운로드\n",
    "!kaggle competitions download -c dogs-vs-cats"
   ]
  }
 ],
 "metadata": {
  "kernelspec": {
   "display_name": "mlvenv",
   "language": "python",
   "name": "python3"
  },
  "language_info": {
   "codemirror_mode": {
    "name": "ipython",
    "version": 3
   },
   "file_extension": ".py",
   "mimetype": "text/x-python",
   "name": "python",
   "nbconvert_exporter": "python",
   "pygments_lexer": "ipython3",
   "version": "3.11.9"
  }
 },
 "nbformat": 4,
 "nbformat_minor": 5
}
